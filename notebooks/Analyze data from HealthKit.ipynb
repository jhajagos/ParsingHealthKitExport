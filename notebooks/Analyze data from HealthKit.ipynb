{
 "cells": [
  {
   "cell_type": "code",
   "execution_count": 1,
   "metadata": {
    "collapsed": true
   },
   "outputs": [],
   "source": [
    "import xml.etree.ElementTree as et\n",
    "import os\n",
    "import pandas as pd\n",
    "import datetime"
   ]
  },
  {
   "cell_type": "code",
   "execution_count": 2,
   "metadata": {
    "collapsed": true
   },
   "outputs": [],
   "source": [
    "data_directory = \"C:\\\\Users\\\\janos\\\\data\\\\apple_health_export\\\\\" # Edit this to point to your own directory"
   ]
  },
  {
   "cell_type": "code",
   "execution_count": 3,
   "metadata": {
    "collapsed": true
   },
   "outputs": [],
   "source": [
    "cda_filename = os.path.join(data_directory, \"export_cda.xml\")"
   ]
  },
  {
   "cell_type": "code",
   "execution_count": 4,
   "metadata": {
    "collapsed": true
   },
   "outputs": [],
   "source": [
    "cda = et.parse(cda_filename)"
   ]
  },
  {
   "cell_type": "code",
   "execution_count": 5,
   "metadata": {
    "collapsed": true
   },
   "outputs": [],
   "source": [
    "observations = list(cda.iterfind(\"./{urn:hl7-org:v3}entry/{urn:hl7-org:v3}organizer/{urn:hl7-org:v3}component/{urn:hl7-org:v3}observation\"))"
   ]
  },
  {
   "cell_type": "code",
   "execution_count": 6,
   "metadata": {},
   "outputs": [
    {
     "data": {
      "text/plain": [
       "97325"
      ]
     },
     "execution_count": 6,
     "metadata": {},
     "output_type": "execute_result"
    }
   ],
   "source": [
    "len(observations)"
   ]
  },
  {
   "cell_type": "code",
   "execution_count": 7,
   "metadata": {},
   "outputs": [],
   "source": [
    "parsed_observations_list = []\n",
    "for observation in observations:\n",
    "    observation_dict = {}\n",
    "    \n",
    "    coding_info = observation.find(\"{urn:hl7-org:v3}code\").attrib\n",
    "    for key in coding_info:\n",
    "        observation_dict[key] = coding_info[key]\n",
    "            \n",
    "    value_info = observation.find(\"{urn:hl7-org:v3}value\").attrib\n",
    "    for key in value_info:\n",
    "        observation_dict[key] = value_info[key]\n",
    "        \n",
    "    if \"value\" in observation_dict:\n",
    "        try:\n",
    "            observation_dict[\"value_parsed\"] = float(observation_dict[\"value\"])\n",
    "        except ValueError:\n",
    "            obervation_dict[\"value_parsed\"] = None\n",
    "        \n",
    "    low_effective_time_info = observation.find(\"{urn:hl7-org:v3}effectiveTime/{urn:hl7-org:v3}low\").attrib\n",
    "    high_effective_time_info = observation.find(\"{urn:hl7-org:v3}effectiveTime/{urn:hl7-org:v3}high\").attrib\n",
    "    \n",
    "    effective_time_info = {}\n",
    "    effective_time_info[\"low_effective_time\"] = low_effective_time_info[\"value\"]\n",
    "    effective_time_info[\"low_effective_time_parsed\"] = datetime.datetime.strptime(effective_time_info[\"low_effective_time\"], \"%Y%m%d%H%M%S%z\")\n",
    "    effective_time_info[\"high_effective_time\"] = low_effective_time_info[\"value\"]\n",
    "    effective_time_info[\"high_effective_time_parsed\"] = datetime.datetime.strptime(effective_time_info[\"low_effective_time\"], \"%Y%m%d%H%M%S%z\")\n",
    "    \n",
    "    for key in effective_time_info:\n",
    "        observation_dict[key] = effective_time_info[key]\n",
    "        \n",
    "    interpretation_info = observation.find(\"{urn:hl7-org:v3}interpretationCode\").attrib\n",
    "    for key in interpretation_info:\n",
    "        observation_dict[\"interpretation_\" + key] = interpretation_info[key]\n",
    "        \n",
    "    status_info = observation.find(\"{urn:hl7-org:v3}statusCode\").attrib\n",
    "    for key in status_info:\n",
    "        observation_dict[\"status_\" + key] = status_info[key]\n",
    "        \n",
    "    parsed_observations_list += [observation_dict]\n",
    "    "
   ]
  },
  {
   "cell_type": "code",
   "execution_count": 8,
   "metadata": {},
   "outputs": [
    {
     "data": {
      "text/plain": [
       "{'code': '8867-4',\n",
       " 'codeSystem': '2.16.840.1.113883.6.1',\n",
       " 'codeSystemName': 'LOINC',\n",
       " 'displayName': 'Heart rate',\n",
       " 'high_effective_time': '20160916203246-0500',\n",
       " 'high_effective_time_parsed': datetime.datetime(2016, 9, 16, 20, 32, 46, tzinfo=datetime.timezone(datetime.timedelta(-1, 68400))),\n",
       " 'interpretation_code': 'N',\n",
       " 'interpretation_codeSystem': '2.16.840.1.113883.5.83',\n",
       " 'low_effective_time': '20160916203246-0500',\n",
       " 'low_effective_time_parsed': datetime.datetime(2016, 9, 16, 20, 32, 46, tzinfo=datetime.timezone(datetime.timedelta(-1, 68400))),\n",
       " 'status_code': 'completed',\n",
       " 'unit': 'count/min',\n",
       " 'value': '97',\n",
       " 'value_parsed': 97.0,\n",
       " '{http://www.w3.org/2001/XMLSchema-instance}type': 'PQ'}"
      ]
     },
     "execution_count": 8,
     "metadata": {},
     "output_type": "execute_result"
    }
   ],
   "source": [
    "parsed_observations_list[20]"
   ]
  },
  {
   "cell_type": "code",
   "execution_count": 9,
   "metadata": {
    "collapsed": true
   },
   "outputs": [],
   "source": [
    "observations_df = pd.DataFrame(parsed_observations_list)"
   ]
  },
  {
   "cell_type": "code",
   "execution_count": 10,
   "metadata": {},
   "outputs": [
    {
     "data": {
      "text/html": [
       "<div>\n",
       "<style>\n",
       "    .dataframe thead tr:only-child th {\n",
       "        text-align: right;\n",
       "    }\n",
       "\n",
       "    .dataframe thead th {\n",
       "        text-align: left;\n",
       "    }\n",
       "\n",
       "    .dataframe tbody tr th {\n",
       "        vertical-align: top;\n",
       "    }\n",
       "</style>\n",
       "<table border=\"1\" class=\"dataframe\">\n",
       "  <thead>\n",
       "    <tr style=\"text-align: right;\">\n",
       "      <th></th>\n",
       "      <th>code</th>\n",
       "      <th>codeSystem</th>\n",
       "      <th>codeSystemName</th>\n",
       "      <th>displayName</th>\n",
       "      <th>high_effective_time</th>\n",
       "      <th>high_effective_time_parsed</th>\n",
       "      <th>interpretation_code</th>\n",
       "      <th>interpretation_codeSystem</th>\n",
       "      <th>low_effective_time</th>\n",
       "      <th>low_effective_time_parsed</th>\n",
       "      <th>status_code</th>\n",
       "      <th>unit</th>\n",
       "      <th>value</th>\n",
       "      <th>value_parsed</th>\n",
       "      <th>{http://www.w3.org/2001/XMLSchema-instance}type</th>\n",
       "    </tr>\n",
       "  </thead>\n",
       "  <tbody>\n",
       "    <tr>\n",
       "      <th>97320</th>\n",
       "      <td>8462-4</td>\n",
       "      <td>2.16.840.1.113883.6.1</td>\n",
       "      <td>LOINC</td>\n",
       "      <td>Diastolic blood pressure</td>\n",
       "      <td>20170804212559-0500</td>\n",
       "      <td>2017-08-04 21:25:59-05:00</td>\n",
       "      <td>N</td>\n",
       "      <td>2.16.840.1.113883.5.83</td>\n",
       "      <td>20170804212559-0500</td>\n",
       "      <td>2017-08-04 21:25:59-05:00</td>\n",
       "      <td>completed</td>\n",
       "      <td>mmHg</td>\n",
       "      <td>76</td>\n",
       "      <td>76.0</td>\n",
       "      <td>PQ</td>\n",
       "    </tr>\n",
       "    <tr>\n",
       "      <th>97321</th>\n",
       "      <td>8462-4</td>\n",
       "      <td>2.16.840.1.113883.6.1</td>\n",
       "      <td>LOINC</td>\n",
       "      <td>Diastolic blood pressure</td>\n",
       "      <td>20170814072209-0500</td>\n",
       "      <td>2017-08-14 07:22:09-05:00</td>\n",
       "      <td>N</td>\n",
       "      <td>2.16.840.1.113883.5.83</td>\n",
       "      <td>20170814072209-0500</td>\n",
       "      <td>2017-08-14 07:22:09-05:00</td>\n",
       "      <td>completed</td>\n",
       "      <td>mmHg</td>\n",
       "      <td>82</td>\n",
       "      <td>82.0</td>\n",
       "      <td>PQ</td>\n",
       "    </tr>\n",
       "    <tr>\n",
       "      <th>97322</th>\n",
       "      <td>8462-4</td>\n",
       "      <td>2.16.840.1.113883.6.1</td>\n",
       "      <td>LOINC</td>\n",
       "      <td>Diastolic blood pressure</td>\n",
       "      <td>20170814072304-0500</td>\n",
       "      <td>2017-08-14 07:23:04-05:00</td>\n",
       "      <td>N</td>\n",
       "      <td>2.16.840.1.113883.5.83</td>\n",
       "      <td>20170814072304-0500</td>\n",
       "      <td>2017-08-14 07:23:04-05:00</td>\n",
       "      <td>completed</td>\n",
       "      <td>mmHg</td>\n",
       "      <td>78</td>\n",
       "      <td>78.0</td>\n",
       "      <td>PQ</td>\n",
       "    </tr>\n",
       "    <tr>\n",
       "      <th>97323</th>\n",
       "      <td>8462-4</td>\n",
       "      <td>2.16.840.1.113883.6.1</td>\n",
       "      <td>LOINC</td>\n",
       "      <td>Diastolic blood pressure</td>\n",
       "      <td>20170904213809-0500</td>\n",
       "      <td>2017-09-04 21:38:09-05:00</td>\n",
       "      <td>N</td>\n",
       "      <td>2.16.840.1.113883.5.83</td>\n",
       "      <td>20170904213809-0500</td>\n",
       "      <td>2017-09-04 21:38:09-05:00</td>\n",
       "      <td>completed</td>\n",
       "      <td>mmHg</td>\n",
       "      <td>68</td>\n",
       "      <td>68.0</td>\n",
       "      <td>PQ</td>\n",
       "    </tr>\n",
       "    <tr>\n",
       "      <th>97324</th>\n",
       "      <td>8462-4</td>\n",
       "      <td>2.16.840.1.113883.6.1</td>\n",
       "      <td>LOINC</td>\n",
       "      <td>Diastolic blood pressure</td>\n",
       "      <td>20170904213915-0500</td>\n",
       "      <td>2017-09-04 21:39:15-05:00</td>\n",
       "      <td>N</td>\n",
       "      <td>2.16.840.1.113883.5.83</td>\n",
       "      <td>20170904213915-0500</td>\n",
       "      <td>2017-09-04 21:39:15-05:00</td>\n",
       "      <td>completed</td>\n",
       "      <td>mmHg</td>\n",
       "      <td>69</td>\n",
       "      <td>69.0</td>\n",
       "      <td>PQ</td>\n",
       "    </tr>\n",
       "  </tbody>\n",
       "</table>\n",
       "</div>"
      ],
      "text/plain": [
       "         code             codeSystem codeSystemName               displayName  \\\n",
       "97320  8462-4  2.16.840.1.113883.6.1          LOINC  Diastolic blood pressure   \n",
       "97321  8462-4  2.16.840.1.113883.6.1          LOINC  Diastolic blood pressure   \n",
       "97322  8462-4  2.16.840.1.113883.6.1          LOINC  Diastolic blood pressure   \n",
       "97323  8462-4  2.16.840.1.113883.6.1          LOINC  Diastolic blood pressure   \n",
       "97324  8462-4  2.16.840.1.113883.6.1          LOINC  Diastolic blood pressure   \n",
       "\n",
       "       high_effective_time high_effective_time_parsed interpretation_code  \\\n",
       "97320  20170804212559-0500  2017-08-04 21:25:59-05:00                   N   \n",
       "97321  20170814072209-0500  2017-08-14 07:22:09-05:00                   N   \n",
       "97322  20170814072304-0500  2017-08-14 07:23:04-05:00                   N   \n",
       "97323  20170904213809-0500  2017-09-04 21:38:09-05:00                   N   \n",
       "97324  20170904213915-0500  2017-09-04 21:39:15-05:00                   N   \n",
       "\n",
       "      interpretation_codeSystem   low_effective_time  \\\n",
       "97320    2.16.840.1.113883.5.83  20170804212559-0500   \n",
       "97321    2.16.840.1.113883.5.83  20170814072209-0500   \n",
       "97322    2.16.840.1.113883.5.83  20170814072304-0500   \n",
       "97323    2.16.840.1.113883.5.83  20170904213809-0500   \n",
       "97324    2.16.840.1.113883.5.83  20170904213915-0500   \n",
       "\n",
       "      low_effective_time_parsed status_code  unit value  value_parsed  \\\n",
       "97320 2017-08-04 21:25:59-05:00   completed  mmHg    76          76.0   \n",
       "97321 2017-08-14 07:22:09-05:00   completed  mmHg    82          82.0   \n",
       "97322 2017-08-14 07:23:04-05:00   completed  mmHg    78          78.0   \n",
       "97323 2017-09-04 21:38:09-05:00   completed  mmHg    68          68.0   \n",
       "97324 2017-09-04 21:39:15-05:00   completed  mmHg    69          69.0   \n",
       "\n",
       "      {http://www.w3.org/2001/XMLSchema-instance}type  \n",
       "97320                                              PQ  \n",
       "97321                                              PQ  \n",
       "97322                                              PQ  \n",
       "97323                                              PQ  \n",
       "97324                                              PQ  "
      ]
     },
     "execution_count": 10,
     "metadata": {},
     "output_type": "execute_result"
    }
   ],
   "source": [
    "observations_df.tail(5)"
   ]
  },
  {
   "cell_type": "code",
   "execution_count": 11,
   "metadata": {},
   "outputs": [
    {
     "data": {
      "text/plain": [
       "code                                                                  object\n",
       "codeSystem                                                            object\n",
       "codeSystemName                                                        object\n",
       "displayName                                                           object\n",
       "high_effective_time                                                   object\n",
       "high_effective_time_parsed                         datetime64[ns, UTC-05:00]\n",
       "interpretation_code                                                   object\n",
       "interpretation_codeSystem                                             object\n",
       "low_effective_time                                                    object\n",
       "low_effective_time_parsed                          datetime64[ns, UTC-05:00]\n",
       "status_code                                                           object\n",
       "unit                                                                  object\n",
       "value                                                                 object\n",
       "value_parsed                                                         float64\n",
       "{http://www.w3.org/2001/XMLSchema-instance}type                       object\n",
       "dtype: object"
      ]
     },
     "execution_count": 11,
     "metadata": {},
     "output_type": "execute_result"
    }
   ],
   "source": [
    "observations_df.dtypes"
   ]
  },
  {
   "cell_type": "code",
   "execution_count": 12,
   "metadata": {},
   "outputs": [
    {
     "data": {
      "text/plain": [
       "97325"
      ]
     },
     "execution_count": 12,
     "metadata": {},
     "output_type": "execute_result"
    }
   ],
   "source": [
    "len(observations_df)"
   ]
  },
  {
   "cell_type": "code",
   "execution_count": 13,
   "metadata": {},
   "outputs": [
    {
     "data": {
      "text/plain": [
       "Heart rate                  97268\n",
       "Diastolic blood pressure       24\n",
       "Systolic blood pressure        24\n",
       "Body weight Measured            5\n",
       "Height                          4\n",
       "Name: displayName, dtype: int64"
      ]
     },
     "execution_count": 13,
     "metadata": {},
     "output_type": "execute_result"
    }
   ],
   "source": [
    "pd.value_counts(observations_df[\"displayName\"])"
   ]
  },
  {
   "cell_type": "code",
   "execution_count": 14,
   "metadata": {
    "collapsed": true
   },
   "outputs": [],
   "source": [
    "heart_rates_df = observations_df[observations_df[\"displayName\"] == \"Heart rate\"]"
   ]
  },
  {
   "cell_type": "code",
   "execution_count": 15,
   "metadata": {
    "collapsed": true
   },
   "outputs": [],
   "source": [
    "import seaborn as sns"
   ]
  },
  {
   "cell_type": "code",
   "execution_count": 16,
   "metadata": {
    "collapsed": true
   },
   "outputs": [],
   "source": [
    "%matplotlib inline"
   ]
  },
  {
   "cell_type": "code",
   "execution_count": 17,
   "metadata": {},
   "outputs": [
    {
     "data": {
      "text/plain": [
       "<matplotlib.axes._subplots.AxesSubplot at 0x23f959e9b70>"
      ]
     },
     "execution_count": 17,
     "metadata": {},
     "output_type": "execute_result"
    },
    {
     "data": {
      "image/png": "[encoded data removed]",
      "text/plain": [
       "<matplotlib.figure.Figure at 0x23f957e6c88>"
      ]
     },
     "metadata": {},
     "output_type": "display_data"
    }
   ],
   "source": [
    "sns.boxplot(heart_rates_df[\"value_parsed\"])"
   ]
  },
  {
   "cell_type": "code",
   "execution_count": 18,
   "metadata": {},
   "outputs": [
    {
     "data": {
      "text/plain": [
       "(Timestamp('2016-09-16 19:45:41-0500', tz='UTC-05:00'),\n",
       " Timestamp('2018-02-16 11:11:08-0500', tz='UTC-05:00'))"
      ]
     },
     "execution_count": 18,
     "metadata": {},
     "output_type": "execute_result"
    }
   ],
   "source": [
    "heart_rates_df[\"low_effective_time_parsed\"].min(), heart_rates_df[\"low_effective_time_parsed\"].max(), "
   ]
  },
  {
   "cell_type": "code",
   "execution_count": 19,
   "metadata": {},
   "outputs": [
    {
     "name": "stderr",
     "output_type": "stream",
     "text": [
      "C:\\ProgramData\\Anaconda3\\lib\\site-packages\\ipykernel_launcher.py:1: SettingWithCopyWarning: \n",
      "A value is trying to be set on a copy of a slice from a DataFrame.\n",
      "Try using .loc[row_indexer,col_indexer] = value instead\n",
      "\n",
      "See the caveats in the documentation: http://pandas.pydata.org/pandas-docs/stable/indexing.html#indexing-view-versus-copy\n",
      "  \"\"\"Entry point for launching an IPython kernel.\n"
     ]
    }
   ],
   "source": [
    "heart_rates_df[\"year\"] = heart_rates_df.apply(lambda x: str(x[\"low_effective_time_parsed\"].year), axis=1)"
   ]
  },
  {
   "cell_type": "code",
   "execution_count": 20,
   "metadata": {},
   "outputs": [
    {
     "data": {
      "text/plain": [
       "<matplotlib.axes._subplots.AxesSubplot at 0x23f9a4ebef0>"
      ]
     },
     "execution_count": 20,
     "metadata": {},
     "output_type": "execute_result"
    },
    {
     "data": {
      "image/png": "[encoded data removed]",
      "text/plain": [
       "<matplotlib.figure.Figure at 0x23f959ff630>"
      ]
     },
     "metadata": {},
     "output_type": "display_data"
    }
   ],
   "source": [
    "sns.boxplot(x=heart_rates_df[\"year\"], y=heart_rates_df[\"value_parsed\"])"
   ]
  },
  {
   "cell_type": "code",
   "execution_count": 21,
   "metadata": {},
   "outputs": [
    {
     "data": {
      "text/plain": [
       "<matplotlib.axes._subplots.AxesSubplot at 0x23f9a988080>"
      ]
     },
     "execution_count": 21,
     "metadata": {},
     "output_type": "execute_result"
    },
    {
     "data": {
      "image/png": "[encoded data removed]",
      "text/plain": [
       "<matplotlib.figure.Figure at 0x23f95a06240>"
      ]
     },
     "metadata": {},
     "output_type": "display_data"
    }
   ],
   "source": [
    "sns.violinplot(x=heart_rates_df[\"year\"], y=heart_rates_df[\"value_parsed\"])"
   ]
  },
  {
   "cell_type": "code",
   "execution_count": 22,
   "metadata": {},
   "outputs": [
    {
     "name": "stderr",
     "output_type": "stream",
     "text": [
      "C:\\ProgramData\\Anaconda3\\lib\\site-packages\\ipykernel_launcher.py:1: SettingWithCopyWarning: \n",
      "A value is trying to be set on a copy of a slice from a DataFrame.\n",
      "Try using .loc[row_indexer,col_indexer] = value instead\n",
      "\n",
      "See the caveats in the documentation: http://pandas.pydata.org/pandas-docs/stable/indexing.html#indexing-view-versus-copy\n",
      "  \"\"\"Entry point for launching an IPython kernel.\n"
     ]
    }
   ],
   "source": [
    "heart_rates_df[\"hour\"] = heart_rates_df.apply(lambda x: x[\"low_effective_time_parsed\"].hour, axis=1)"
   ]
  },
  {
   "cell_type": "code",
   "execution_count": 23,
   "metadata": {},
   "outputs": [
    {
     "data": {
      "text/plain": [
       "<matplotlib.axes._subplots.AxesSubplot at 0x23f99fe8908>"
      ]
     },
     "execution_count": 23,
     "metadata": {},
     "output_type": "execute_result"
    },
    {
     "data": {
      "image/png": "[encoded data removed]",
      "text/plain": [
       "<matplotlib.figure.Figure at 0x23f99e476d8>"
      ]
     },
     "metadata": {},
     "output_type": "display_data"
    }
   ],
   "source": [
    "sns.boxplot(x=heart_rates_df[\"hour\"], y=heart_rates_df[\"value_parsed\"])"
   ]
  },
  {
   "cell_type": "code",
   "execution_count": 24,
   "metadata": {},
   "outputs": [
    {
     "data": {
      "image/png": "[encoded data removed]",
      "text/plain": [
       "<matplotlib.figure.Figure at 0x23f9a0ac588>"
      ]
     },
     "metadata": {},
     "output_type": "display_data"
    }
   ],
   "source": [
    "import matplotlib.pyplot as plt\n",
    "plt.ylim(50, 120)\n",
    "bplot = sns.boxplot(x=heart_rates_df[\"hour\"], y=heart_rates_df[\"value_parsed\"], showfliers=False)\n"
   ]
  },
  {
   "cell_type": "code",
   "execution_count": null,
   "metadata": {
    "collapsed": true
   },
   "outputs": [],
   "source": []
  }
 ],
 "metadata": {
  "kernelspec": {
   "display_name": "Python 3",
   "language": "python",
   "name": "python3"
  },
  "language_info": {
   "codemirror_mode": {
    "name": "ipython",
    "version": 3
   },
   "file_extension": ".py",
   "mimetype": "text/x-python",
   "name": "python",
   "nbconvert_exporter": "python",
   "pygments_lexer": "ipython3",
   "version": "3.6.3"
  }
 },
 "nbformat": 4,
 "nbformat_minor": 2
}
